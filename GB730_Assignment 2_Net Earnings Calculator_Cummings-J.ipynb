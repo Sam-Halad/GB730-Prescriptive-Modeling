{
  "nbformat": 4,
  "nbformat_minor": 0,
  "metadata": {
    "colab": {
      "provenance": []
    },
    "kernelspec": {
      "name": "python3",
      "display_name": "Python 3"
    },
    "language_info": {
      "name": "python"
    }
  },
  "cells": [
    {
      "cell_type": "code",
      "execution_count": null,
      "metadata": {
        "id": "8VdFN7Ewrcvm"
      },
      "outputs": [],
      "source": [
        "unit_price = [125, 345, 99, 380, 235]\n",
        "volume = [8400, 4200, 10950, 4000, 3850]\n",
        "unit_cost = [62, 188, 52, 225, 109]\n",
        "sales_com_factor = .07\n",
        "num_products = 5"
      ]
    },
    {
      "cell_type": "code",
      "source": [
        "#gross profit calculations\n",
        "gross_sales = [unit_price[i]*volume[i] for i in range (num_products)]\n",
        "cogs = [unit_cost[i]*volume[i] for i in range (num_products)]\n",
        "gross_profit = [gross_sales[i]-cogs[i] for i in range(num_products)]\n",
        "print(\"gross profit by product\",gross_profit)\n",
        "total_gross_profit = sum(gross_profit)\n",
        "print(\"total gross profit\", total_gross_profit)"
      ],
      "metadata": {
        "colab": {
          "base_uri": "https://localhost:8080/"
        },
        "id": "t6NqEtcts1SO",
        "outputId": "98c1cc53-e154-476a-d4f0-e734586d3da0"
      },
      "execution_count": null,
      "outputs": [
        {
          "output_type": "stream",
          "name": "stdout",
          "text": [
            "gross profit by product [529200, 659400, 514650, 620000, 485100]\n",
            "total gross profit 2808350\n"
          ]
        }
      ]
    },
    {
      "cell_type": "code",
      "source": [
        "#expenses calcuations\n",
        "sales_com = [sales_com_factor*gross_sales[i] for i in range(num_products)]\n",
        "print(\"sales commission\", sales_com)\n",
        "total_sales_com = sum(sales_com)\n",
        "print(\"total sales commission\", total_sales_com)"
      ],
      "metadata": {
        "colab": {
          "base_uri": "https://localhost:8080/"
        },
        "id": "LZP41rgns2TY",
        "outputId": "449400b6-51bf-40b7-9fe4-cd32ef044e28"
      },
      "execution_count": null,
      "outputs": [
        {
          "output_type": "stream",
          "name": "stdout",
          "text": [
            "sales commission [73500.0, 101430.00000000001, 75883.5, 106400.00000000001, 63332.50000000001]\n",
            "total sales commission 420546.00000000006\n"
          ]
        }
      ]
    },
    {
      "cell_type": "code",
      "source": [
        "#net earnings\n",
        "net_earnings = total_gross_profit - total_sales_com\n",
        "print(\"net earnings\", net_earnings)"
      ],
      "metadata": {
        "colab": {
          "base_uri": "https://localhost:8080/"
        },
        "id": "rHlUamzYtUbo",
        "outputId": "fb967f7c-c8c1-47e1-e7bc-0261fa8294e4"
      },
      "execution_count": null,
      "outputs": [
        {
          "output_type": "stream",
          "name": "stdout",
          "text": [
            "net earnings 2387804.0\n"
          ]
        }
      ]
    }
  ]
}