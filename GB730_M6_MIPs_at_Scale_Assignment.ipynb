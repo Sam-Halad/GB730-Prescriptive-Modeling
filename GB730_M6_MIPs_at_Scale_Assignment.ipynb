{
  "nbformat": 4,
  "nbformat_minor": 0,
  "metadata": {
    "colab": {
      "provenance": []
    },
    "kernelspec": {
      "name": "python3",
      "display_name": "Python 3"
    },
    "language_info": {
      "name": "python"
    }
  },
  "cells": [
    {
      "cell_type": "code",
      "execution_count": 49,
      "metadata": {
        "id": "qQ9zDDb8fs3O"
      },
      "outputs": [],
      "source": [
        "#Copy-and-paste the code below to use as \"set-up\" when your optimization model uses Pyomo and Coin-OR solvers.\n",
        "#for reference, see https://jckantor.github.io/ND-Pyomo-Cookbook/notebooks/01.02-Running-Pyomo-on-Google-Colab.html#installing-pyomo-and-solvers\n",
        "\n",
        "%%capture\n",
        "import sys\n",
        "import os\n",
        "\n",
        "if 'google.colab' in sys.modules:\n",
        "    !pip install idaes-pse --pre\n",
        "    !idaes get-extensions --to ./bin\n",
        "    os.environ['PATH'] += ':bin'\n",
        "\n",
        "from pyomo.environ import *"
      ]
    },
    {
      "cell_type": "code",
      "source": [
        "import pandas as pd"
      ],
      "metadata": {
        "id": "I5FzCCxqf3I5"
      },
      "execution_count": 51,
      "outputs": []
    },
    {
      "cell_type": "code",
      "source": [
        "#load in data (located on the first sheet)\n",
        "df2 = pd.read_excel('LargeAssignmentProblemData.xlsx', sheet_name='Largeproblemdata',index_col=0)\n",
        "df2.head()\n",
        "times = df2.values.tolist()"
      ],
      "metadata": {
        "id": "N7JBXi4GgwS6"
      },
      "execution_count": 52,
      "outputs": []
    },
    {
      "cell_type": "code",
      "source": [
        "\n",
        "#first index is the person, second index is the task, times[i][j] denotes the time it takes person i to complete task j\n",
        "\n",
        "#declare a concrete model\n",
        "model = ConcreteModel()\n",
        "\n",
        "num_people=len(df2) #use i to index the people, this is the first index\n",
        "num_tasks=len(df2.columns)  #use j to index the tasks, this is the second index\n",
        "\n",
        "#declare the decision variables\n",
        "model.x = Var(range(num_people), range(num_tasks), domain=NonNegativeReals) #NOTE: This is how you define 2-dimensional decision variables, model.x[i,j]\n",
        "\n",
        "#set the objective\n",
        "model.Objective = Objective(expr = sum(model.x[i,j]*times[i][j] for i in range(num_people) for j in range(num_tasks)), sense = minimize) #this is how you sum up over multiple indices\n",
        "\n",
        "#set the people constraints\n",
        "model.PeopleConstraints = ConstraintList() #declaring an empty list of constraints\n",
        "for i in range(num_people): #add one constraint per person\n",
        "    model.PeopleConstraints.add(expr = sum(model.x[i,j] for j in range(num_tasks)) <= 1)\n",
        "\n",
        "#set the task constraints\n",
        "model.TaskConstraints = ConstraintList()\n",
        "for j in range(num_tasks): #adding one constraint per task\n",
        "    model.TaskConstraints.add(expr = sum(model.x[i,j] for i in range(num_people)) >= 1)\n",
        "\n",
        "#model.pprint()"
      ],
      "metadata": {
        "id": "DJ5z90E6g0Lf"
      },
      "execution_count": 53,
      "outputs": []
    },
    {
      "cell_type": "code",
      "source": [
        "#solve the model\n",
        "opt = SolverFactory('cbc')\n",
        "opt.solve(model, tee = False)"
      ],
      "metadata": {
        "colab": {
          "base_uri": "https://localhost:8080/"
        },
        "id": "aDWIGywzlf7N",
        "outputId": "bf27de29-28e6-478f-ee08-181606780e1a"
      },
      "execution_count": 54,
      "outputs": [
        {
          "output_type": "execute_result",
          "data": {
            "text/plain": [
              "{'Problem': [{'Name': 'unknown', 'Lower bound': 2815.0, 'Upper bound': 2815.0, 'Number of objectives': 1, 'Number of constraints': 94, 'Number of variables': 2209, 'Number of nonzeros': 2209, 'Sense': 'minimize'}], 'Solver': [{'Status': 'ok', 'User time': -1.0, 'System time': 0.03, 'Wallclock time': 0.03, 'Termination condition': 'optimal', 'Termination message': 'Model was solved to optimality (subject to tolerances), and an optimal solution is available.', 'Statistics': {'Branch and bound': {'Number of bounded subproblems': None, 'Number of created subproblems': None}, 'Black box': {'Number of iterations': 110}}, 'Error rc': 0, 'Time': 0.04663491249084473}], 'Solution': [OrderedDict({'number of solutions': 0, 'number of solutions displayed': 0})]}"
            ]
          },
          "metadata": {},
          "execution_count": 54
        }
      ]
    },
    {
      "cell_type": "code",
      "source": [
        "#print solution\n",
        "print(\"objective:\", model.Objective())\n",
        "for i in range(num_people):\n",
        "    for j in range(num_tasks):\n",
        "        if model.x[i,j]() > 0:\n",
        "            print(\"person\", i, \"gets task\", j)"
      ],
      "metadata": {
        "colab": {
          "base_uri": "https://localhost:8080/"
        },
        "id": "o2qxhym3lklK",
        "outputId": "74c2b623-27ea-4768-d861-f6e36e326d6f"
      },
      "execution_count": 55,
      "outputs": [
        {
          "output_type": "stream",
          "name": "stdout",
          "text": [
            "objective: 2815.0\n",
            "person 0 gets task 8\n",
            "person 1 gets task 6\n",
            "person 2 gets task 5\n",
            "person 3 gets task 45\n",
            "person 4 gets task 35\n",
            "person 5 gets task 10\n",
            "person 6 gets task 33\n",
            "person 7 gets task 34\n",
            "person 8 gets task 12\n",
            "person 9 gets task 42\n",
            "person 10 gets task 39\n",
            "person 11 gets task 23\n",
            "person 12 gets task 11\n",
            "person 13 gets task 2\n",
            "person 14 gets task 36\n",
            "person 15 gets task 18\n",
            "person 16 gets task 31\n",
            "person 17 gets task 25\n",
            "person 18 gets task 41\n",
            "person 19 gets task 7\n",
            "person 20 gets task 20\n",
            "person 21 gets task 4\n",
            "person 22 gets task 15\n",
            "person 23 gets task 43\n",
            "person 24 gets task 19\n",
            "person 25 gets task 14\n",
            "person 26 gets task 9\n",
            "person 27 gets task 22\n",
            "person 28 gets task 28\n",
            "person 29 gets task 21\n",
            "person 30 gets task 3\n",
            "person 31 gets task 29\n",
            "person 32 gets task 46\n",
            "person 33 gets task 30\n",
            "person 34 gets task 44\n",
            "person 35 gets task 37\n",
            "person 36 gets task 40\n",
            "person 37 gets task 13\n",
            "person 38 gets task 24\n",
            "person 39 gets task 0\n",
            "person 40 gets task 27\n",
            "person 41 gets task 17\n",
            "person 42 gets task 16\n",
            "person 43 gets task 26\n",
            "person 44 gets task 32\n",
            "person 45 gets task 1\n",
            "person 46 gets task 38\n"
          ]
        }
      ]
    }
  ]
}