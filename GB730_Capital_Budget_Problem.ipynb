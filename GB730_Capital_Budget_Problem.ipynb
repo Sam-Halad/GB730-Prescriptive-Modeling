{
  "nbformat": 4,
  "nbformat_minor": 0,
  "metadata": {
    "colab": {
      "provenance": []
    },
    "kernelspec": {
      "name": "python3",
      "display_name": "Python 3"
    },
    "language_info": {
      "name": "python"
    }
  },
  "cells": [
    {
      "cell_type": "code",
      "execution_count": null,
      "metadata": {
        "id": "EtcROWLIWtEd"
      },
      "outputs": [],
      "source": [
        "#Copy-and-paste the code below to use as \"set-up\" when your optimization model uses Pyomo and Coin-OR solvers.\n",
        "#for reference, see https://jckantor.github.io/ND-Pyomo-Cookbook/notebooks/01.02-Running-Pyomo-on-Google-Colab.html#installing-pyomo-and-solvers\n",
        "\n",
        "%%capture\n",
        "import sys\n",
        "import os\n",
        "\n",
        "if 'google.colab' in sys.modules:\n",
        "    !pip install idaes-pse --pre\n",
        "    !idaes get-extensions --to ./bin\n",
        "    os.environ['PATH'] += ':bin'\n",
        "\n",
        "from pyomo.environ import *"
      ]
    },
    {
      "cell_type": "code",
      "source": [
        "npv = [5.6, 2.7, 3.9, 6.8, 7.7, 5.1, 2.8, 3.5, 4.5, 5.1, 6.1, 9.5, 7.2, 4.9, 3.1, 3.6, 1.55, 0.29, 5.2, 5.9, 6.1, 3.5, 4.5, 5.2, 2.1, 3.7]\n",
        "len(npv)"
      ],
      "metadata": {
        "id": "cg-oyu7AW7B6"
      },
      "execution_count": null,
      "outputs": []
    },
    {
      "cell_type": "code",
      "source": [
        "#Capital Budgeting Base Problem Data\n",
        "cost = [5, 2.4, 3.5, 5.9, 6.9, 4.4, 2.5, 3.1, 3.2, 4, 5.1, 6.1, 4.4, 4.4, 2.5, 3.1, 2.15, 1.57, 2.3, 5.4, 5, 1.9, 2.5, 4, 1.5, 3]\n",
        "npv = [5.6, 2.7, 3.9, 6.8, 7.7, 5.1, 2.8, 3.5, 4.5, 5.1, 6.1, 9.5, 7.2, 4.9, 3.1, 3.6, 1.55, 0.29, 5.2, 5.9, 6.1, 3.5, 4.5, 5.2, 2.1, 3.7]\n",
        "budget = 50\n",
        "n = len(cost)\n",
        "\n",
        "#define the concrete model\n",
        "model = ConcreteModel()\n",
        "\n",
        "#DVs\n",
        "model.x = Var(range(n), domain = Binary) #NOTE: This is where we restrict the decision variables to be binary (could also put things like NonNegativeIntegers)\n",
        "\n",
        "#budget constraint\n",
        "model.BudgetConstraint = Constraint(expr = sum(cost[i]*model.x[i] for i in range(n)) <= budget)\n",
        "\n",
        "#objective\n",
        "model.Objective = Objective(expr = sum(npv[i]*model.x[i] for i in range(n)), sense = maximize)"
      ],
      "metadata": {
        "id": "R1Tew5EWXCAZ"
      },
      "execution_count": null,
      "outputs": []
    },
    {
      "cell_type": "code",
      "source": [
        "#problem 1 - constraint 1\n",
        "#you can add at most two investments from 20 to 26\n",
        "#constraint: at most 2 investments from numbers 20-26\n",
        "#model.InvestmentLimit=Constraint(expr=sum(model.x[i] for i in range (19,26))<=2)\n",
        "#model.pprint()"
      ],
      "metadata": {
        "id": "2ym_v4xQZlJ6"
      },
      "execution_count": null,
      "outputs": []
    },
    {
      "cell_type": "code",
      "source": [
        "#problem 2- constraint 2\n",
        "#if you invest in number 11, you must also invest in 12\n",
        "#model.InvestmentLimit=Constraint(expr=model.x[10]<=model.x[11])\n"
      ],
      "metadata": {
        "id": "CzCuRyPZaC9U"
      },
      "execution_count": null,
      "outputs": []
    },
    {
      "cell_type": "code",
      "source": [
        "#problem 3\n",
        "#must invest in 6 to be able to invest in any of 7-10\n",
        "model.InvestmentLimit = ConstraintList()\n",
        "for i in range(6, 10):\n",
        "    model.InvestmentLimit.add(expr=model.x[i]<= model.x[5])"
      ],
      "metadata": {
        "id": "OnvmPMjObSpc"
      },
      "execution_count": null,
      "outputs": []
    },
    {
      "cell_type": "code",
      "source": [
        "#problem 4 guarantee global optimality using by setting ratio gap to 0\n",
        "#solve the model\n",
        "opt = SolverFactory('cbc')\n",
        "opt.options['seconds'] = 5 #specifies the time limit (in seconds)\n",
        "opt.options['ratioGap'] = 0 #specifies the optimality gap tolerance (.01 means alg can stop if guarenteed within <1% of optimal obj)\n",
        "results = opt.solve(model, tee=True)"
      ],
      "metadata": {
        "id": "qVscMnBYXFf6"
      },
      "execution_count": null,
      "outputs": []
    },
    {
      "cell_type": "code",
      "source": [
        "#print out solution\n",
        "print(\"invest in options: \")\n",
        "for i in range(n):\n",
        "    if model.x[i]() == 1:\n",
        "        print(i)\n",
        "\n",
        "print(\"Total NPV:\", model.Objective())\n",
        "print(\"Total Cost:\", model.BudgetConstraint())"
      ],
      "metadata": {
        "id": "dehXkavuXIMP"
      },
      "execution_count": null,
      "outputs": []
    },
    {
      "cell_type": "code",
      "source": [
        "#must invest in 6 to be able to invest in any of 7-10\n",
        "#model.InvestmentLimit = ConstraintList()\n",
        "#for i in range(6, 10):\n",
        " #   model.InvestmentLimit.add(expr = model.x[i] <= model.x[5])\n",
        "\n",
        "#solve and check\n",
        "#opt = SolverFactory('cbc')\n",
        "#results = opt.solve(model, tee=True)\n",
        "\n",
        "#print which investments were selected\n",
        "#print(\"\\nSelected investments:\")\n",
        "#for i in range(n):\n",
        " #   if model.x[i].value == 1:\n",
        "  #      print(f\"Investment {i+1} (index {i})\")"
      ],
      "metadata": {
        "id": "VFH2YKzMX_jX"
      },
      "execution_count": null,
      "outputs": []
    }
  ]
}