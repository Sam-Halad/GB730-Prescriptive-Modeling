{
  "nbformat": 4,
  "nbformat_minor": 0,
  "metadata": {
    "colab": {
      "provenance": [],
      "collapsed_sections": [
        "hL77L3Uei59o"
      ]
    },
    "kernelspec": {
      "name": "python3",
      "display_name": "Python 3"
    },
    "language_info": {
      "name": "python"
    }
  },
  "cells": [
    {
      "cell_type": "markdown",
      "source": [
        "#Set-Up"
      ],
      "metadata": {
        "id": "hL77L3Uei59o"
      }
    },
    {
      "cell_type": "code",
      "source": [
        "#Copy-and-paste the code below to use as \"set-up\" when your optimization model uses Pyomo and Coin-OR solvers.\n",
        "#for reference, see https://jckantor.github.io/ND-Pyomo-Cookbook/notebooks/01.02-Running-Pyomo-on-Google-Colab.html#installing-pyomo-and-solvers\n",
        "\n",
        "%%capture\n",
        "import sys\n",
        "import os\n",
        "\n",
        "if 'google.colab' in sys.modules:\n",
        "    !pip install idaes-pse --pre\n",
        "    !idaes get-extensions --to ./bin\n",
        "    os.environ['PATH'] += ':bin'\n",
        "\n",
        "from pyomo.environ import *"
      ],
      "metadata": {
        "id": "T3OEUrcJgiSR"
      },
      "execution_count": 2,
      "outputs": []
    },
    {
      "cell_type": "markdown",
      "source": [
        "#Problem A: Practice writing an optimizing problem\n",
        "A rectangular box must have volume 500 in^3 (Recall: a box's volume is defined by its $length*width*height$).\n",
        "\n",
        "Find the shape that has the smallest \"mailing length\" where the mailing length is defined as the sum of the three edge lengths.\n",
        "\n",
        "What is the optimal shape of the box that meets this volume requirement with the smallest mailing length possible? (Use ipopt since this is a nonlinear problem)."
      ],
      "metadata": {
        "id": "A8gzMJrpGX6y"
      }
    },
    {
      "cell_type": "code",
      "source": [
        "#initialize a \"Concrete Model\"\n",
        "modelA = ConcreteModel()\n",
        "num_var =3\n",
        "#initialize DVs\n",
        "modelA.x = Var(range(num_var), bounds = (0.1,100))\n",
        "#define the objective\n",
        "modelA.Objective = Objective(expr=sum(modelA.x[i] for i in range(num_var)),sense=minimize)\n",
        "#constraint\n",
        "volume = 500\n",
        "modelA.Volume_Constraint = Constraint(expr=modelA.x[0] * modelA.x[1] * modelA.x[2] == volume)\n",
        "modelA.pprint()"
      ],
      "metadata": {
        "id": "g-j-_509n3uv",
        "collapsed": true,
        "outputId": "87c0385f-2599-407b-90bf-2f5e04c14da5",
        "colab": {
          "base_uri": "https://localhost:8080/"
        }
      },
      "execution_count": 15,
      "outputs": [
        {
          "output_type": "stream",
          "name": "stdout",
          "text": [
            "1 Var Declarations\n",
            "    x : Size=3, Index={0, 1, 2}\n",
            "        Key : Lower : Value : Upper : Fixed : Stale : Domain\n",
            "          0 :   0.1 :  None :   100 : False :  True :  Reals\n",
            "          1 :   0.1 :  None :   100 : False :  True :  Reals\n",
            "          2 :   0.1 :  None :   100 : False :  True :  Reals\n",
            "\n",
            "1 Objective Declarations\n",
            "    Objective : Size=1, Index=None, Active=True\n",
            "        Key  : Active : Sense    : Expression\n",
            "        None :   True : minimize : x[0] + x[1] + x[2]\n",
            "\n",
            "1 Constraint Declarations\n",
            "    Volume_Constraint : Size=1, Index=None, Active=True\n",
            "        Key  : Lower : Body           : Upper : Active\n",
            "        None : 500.0 : x[0]*x[1]*x[2] : 500.0 :   True\n",
            "\n",
            "3 Declarations: x Objective Volume_Constraint\n"
          ]
        }
      ]
    },
    {
      "cell_type": "code",
      "source": [
        "#solve model (Note: you should use \"ipopt\" because this is a nonlinear problem)\n",
        "opt = SolverFactory('ipopt')\n",
        "results = opt.solve(modelA, tee = False) #setting tee = False hides the diagnostic outputs\n"
      ],
      "metadata": {
        "id": "VY1xAAi9pNQF"
      },
      "execution_count": 17,
      "outputs": []
    },
    {
      "cell_type": "code",
      "source": [
        "#print optimal solution and the smallest mailing length it achieves\n",
        "#print optimal solution and the smallest mailing length it achieves\n",
        "print(f\"x[0] (length)={modelA.x[0]():.4f} inches\")\n",
        "print(f\"x[1] (width)={modelA.x[1]():.4f} inches\")\n",
        "print(f\"x[2] (height)={modelA.x[2]():.4f} inches\")\n",
        "print(f\"\\nMinimum Mailing Length = {modelA.Objective():.4f} inches\")\n"
      ],
      "metadata": {
        "id": "iB33prMPpoXZ",
        "outputId": "a0a043cd-7aa6-4c23-ccc7-2660f6093fc3",
        "colab": {
          "base_uri": "https://localhost:8080/"
        }
      },
      "execution_count": 18,
      "outputs": [
        {
          "output_type": "stream",
          "name": "stdout",
          "text": [
            "x[0] (length)=7.9370 inches\n",
            "x[1] (width)=7.9370 inches\n",
            "x[2] (height)=7.9370 inches\n",
            "\n",
            "Minimum Mailing Length = 23.8110 inches\n"
          ]
        }
      ]
    },
    {
      "cell_type": "markdown",
      "source": [
        "#Problem B: Optimizing an Existing Function (office building)\n",
        "Below, I've included a completed \"office building\" model as a function. Use Pyomo to solve for the price per square foot in each year that maximizes the total earnings after tax. Use ipopt (since this is a nonlinear problem)."
      ],
      "metadata": {
        "id": "UTp7i-5iSgHA"
      }
    },
    {
      "cell_type": "code",
      "source": [
        "def office_earnings(total_sqft = 180000,\n",
        "           m = -0.05,\n",
        "           b = 1.5,\n",
        "           op_expense_per_sqft = 1.20,\n",
        "           heating_surcharge_per_sqft = .2,\n",
        "           op_exp_annual_growth = .12,\n",
        "           annual_mortgage = 1500000,\n",
        "           tax_rate = .34,\n",
        "           price_per_sqft = [15, 15, 15, 15, 15],\n",
        "           num_years = 5):\n",
        "  #rev calc\n",
        "  perc_occ = [m*price_per_sqft[i] + b for i in range(num_years)]\n",
        "  sqft_occ = [perc_occ[i]*total_sqft for i in range(num_years)]\n",
        "  revenue = [sqft_occ[i]*price_per_sqft[i] for i in range(num_years)]\n",
        "  #operating expense calculations\n",
        "  base_op_cost_as_percY1 = [(1+op_exp_annual_growth)**i for i in range(num_years)] #note that range(num_years) = range(5) = [0,1,2,3,4] and (1+op_exp_annual_growth)**0 = 1.\n",
        "  base_op_cost = [op_expense_per_sqft*total_sqft*base_op_cost_as_percY1[i] for i in range(num_years)]\n",
        "  heating_surcharge = [perc_occ[i]*base_op_cost[i]*heating_surcharge_per_sqft for i in range(num_years)]\n",
        "  mortgage = [annual_mortgage for i in range(num_years)]\n",
        "  operating_costs = [base_op_cost[i] + heating_surcharge[i] + mortgage[i] for i in range(num_years)]\n",
        "  #before and after-tax earnings\n",
        "  ebt = [revenue[i] - operating_costs[i] for i in range(num_years)]\n",
        "  taxes = [ebt[i]*tax_rate for i in range(num_years)]\n",
        "  earnings_after_tax = [ebt[i] - taxes[i] for i in range(num_years)]\n",
        "  total_earnings_after_tax = sum(earnings_after_tax)\n",
        "  return total_earnings_after_tax"
      ],
      "metadata": {
        "id": "1AbscQhnSkS3"
      },
      "execution_count": 19,
      "outputs": []
    },
    {
      "cell_type": "code",
      "source": [
        "#initialize a \"Concrete Model\"\n",
        "modelB = ConcreteModel()\n",
        "#initialize DVs\n",
        "num_years =5\n",
        "modelB.price = Var(range(num_years),bounds=(0,100), initialize=15)\n",
        "#define the objective\n",
        "def objective_rule(model):\n",
        "    price_list = [model.price[i] for i in range(num_years)]\n",
        "    return office_earnings(price_per_sqft=price_list)\n",
        "modelB.Objective = Objective(rule=objective_rule, sense = maximize)\n",
        "#(Optional) You can use model.pprint() to see what you've done so far\n",
        "modelB.pprint()\n"
      ],
      "metadata": {
        "id": "Jq_uSiR9SnAn",
        "outputId": "0117541d-683d-43ba-afa7-15fec1578050",
        "colab": {
          "base_uri": "https://localhost:8080/"
        }
      },
      "execution_count": 20,
      "outputs": [
        {
          "output_type": "stream",
          "name": "stdout",
          "text": [
            "1 Var Declarations\n",
            "    price : Size=5, Index={0, 1, 2, 3, 4}\n",
            "        Key : Lower : Value : Upper : Fixed : Stale : Domain\n",
            "          0 :     0 :    15 :   100 : False : False :  Reals\n",
            "          1 :     0 :    15 :   100 : False : False :  Reals\n",
            "          2 :     0 :    15 :   100 : False : False :  Reals\n",
            "          3 :     0 :    15 :   100 : False : False :  Reals\n",
            "          4 :     0 :    15 :   100 : False : False :  Reals\n",
            "\n",
            "1 Objective Declarations\n",
            "    Objective : Size=1, Index=None, Active=True\n",
            "        Key  : Active : Sense    : Expression\n",
            "        None :   True : maximize : (-0.05*price[0] + 1.5)*180000*price[0] - (216000.0 + (-0.05*price[0] + 1.5)*216000.0*0.2 + 1500000) - ((-0.05*price[0] + 1.5)*180000*price[0] - (216000.0 + (-0.05*price[0] + 1.5)*216000.0*0.2 + 1500000))*0.34 + (-0.05*price[1] + 1.5)*180000*price[1] - (241920.00000000003 + (-0.05*price[1] + 1.5)*241920.00000000003*0.2 + 1500000) - ((-0.05*price[1] + 1.5)*180000*price[1] - (241920.00000000003 + (-0.05*price[1] + 1.5)*241920.00000000003*0.2 + 1500000))*0.34 + (-0.05*price[2] + 1.5)*180000*price[2] - (270950.4 + (-0.05*price[2] + 1.5)*270950.4*0.2 + 1500000) - ((-0.05*price[2] + 1.5)*180000*price[2] - (270950.4 + (-0.05*price[2] + 1.5)*270950.4*0.2 + 1500000))*0.34 + (-0.05*price[3] + 1.5)*180000*price[3] - (303464.4480000001 + (-0.05*price[3] + 1.5)*303464.4480000001*0.2 + 1500000) - ((-0.05*price[3] + 1.5)*180000*price[3] - (303464.4480000001 + (-0.05*price[3] + 1.5)*303464.4480000001*0.2 + 1500000))*0.34 + (-0.05*price[4] + 1.5)*180000*price[4] - (339880.1817600001 + (-0.05*price[4] + 1.5)*339880.1817600001*0.2 + 1500000) - ((-0.05*price[4] + 1.5)*180000*price[4] - (339880.1817600001 + (-0.05*price[4] + 1.5)*339880.1817600001*0.2 + 1500000))*0.34\n",
            "\n",
            "2 Declarations: price Objective\n"
          ]
        }
      ]
    },
    {
      "cell_type": "code",
      "source": [
        "#solve model (Note: you should use \"ipopt\" because this is a nonlinear problem)\n",
        "opt = SolverFactory('ipopt')\n",
        "results = opt.solve(modelB, tee = False) #setting tee = False hides the diagnostic outputs\n"
      ],
      "metadata": {
        "id": "EqTdCSrip1CM"
      },
      "execution_count": 21,
      "outputs": []
    },
    {
      "cell_type": "code",
      "source": [
        "#print optimal solution and the largest earnings it achieves\n",
        "#print optimal solution and the largest earnings it achieves\n",
        "print(\"Optimal Price Per Square Foot:\")\n",
        "for i in range(num_years):\n",
        "    print(f\"Year{i+1}: ${modelB.price[i].value:.2f}\")\n",
        "print(f\"Total Earnings After Tax: ${modelB.Objective():.2f}\")"
      ],
      "metadata": {
        "id": "bAUa0LWvp2gk",
        "outputId": "14f7100f-ca54-4a7c-e117-23bc86f558bb",
        "colab": {
          "base_uri": "https://localhost:8080/"
        }
      },
      "execution_count": 22,
      "outputs": [
        {
          "output_type": "stream",
          "name": "stdout",
          "text": [
            "Optimal Price Per Square Foot:\n",
            "Year1: $15.12\n",
            "Year2: $15.13\n",
            "Year3: $15.15\n",
            "Year4: $15.17\n",
            "Year5: $15.19\n",
            "Total Earnings After Tax: $691696.83\n"
          ]
        }
      ]
    },
    {
      "cell_type": "markdown",
      "source": [
        "#Problem C: Coding with Lists of Lists and Constraint Lists\n",
        "Solve this small version of the Stigler problem shown below using lists, `ConstraintLists`, and `for` loops. This version only has **4 decision variables (DVs)** and **3 constraints** but please code in a way that would be scalable for larger problems by following the structure I've started for you below. Print out the optimal \\(x\\)'s and the total optimal cost.\n",
        "\n",
        "**Minimize cost =**  \n",
        "$0.36*x_{\\text{wheat}} + 0.141*x_{\\text{mac}} + 0.242*x_{\\text{cereal}} + 0.300*x_{\\text{milk}}$\n",
        "\n",
        "**Subject to:**  \n",
        "$\n",
        "16.1*x_{\\text{wheat}} + 1.6*x_{\\text{mac}} + 2.9*x_{\\text{cereal}} + 12.5*x_{\\text{milk}} \\geq 3 \\quad (\\text{Calories Daily Min Constraint})\n",
        "$\n",
        "$\n",
        "7.9*x_{\\text{wheat}} + 58.9*x_{\\text{mac}} + 91.2*x_{\\text{cereal}} + 42.3*x_{\\text{milk}} \\geq 1.8 \\quad (\\text{Protein Daily Min Constraint})\n",
        "$\n",
        "$\n",
        "80.5*x_{\\text{wheat}} + 3.0*x_{\\text{mac}} + 7.2*x_{\\text{cereal}} + 15.4*x_{\\text{milk}} \\geq 2.5 \\quad (\\text{Fiber Daily Min Constraint})\n",
        "$\n",
        "\n",
        "$\n",
        "x_{\\text{wheat}}, x_{\\text{mac}}, x_{\\text{cereal}}, x_{\\text{milk}} \\geq 0\n",
        "$\n"
      ],
      "metadata": {
        "id": "bw-F0zCwfYQq"
      }
    },
    {
      "cell_type": "code",
      "source": [
        "#I've put in these input parameters for you\n",
        "num_commodities = 4    #this is how many food commodities to decide on\n",
        "num_nutrients = 3      #this is how many nutrient constraints there are\n",
        "cost_coef = [.36, 0.141, 0.242, 0.300]   #this is a list of the cost coefficients in the objective\n",
        "constraint_coef = [[16.1, 1.6, 2.9, 12.5],\n",
        "                   [7.9, 58.9, 91.2, 42.3],\n",
        "                   [80.5, 3.0, 7.2, 15.4]]     #this is the list of lists of all the constraint coefficients\n",
        "daily_mins = [3, 1.8, 2.5]        #these are the right hand sides"
      ],
      "metadata": {
        "id": "Dl-mFuL0gCya"
      },
      "execution_count": 25,
      "outputs": []
    },
    {
      "cell_type": "code",
      "source": [
        "#Fill in the ??? to complete this code\n",
        "modelC = ConcreteModel()\n",
        "\n",
        "#dvs\n",
        "modelC.x = Var(range(num_commodities), domain = NonNegativeReals)\n",
        "\n",
        "#objective\n",
        "modelC.Objective = Objective(expr = sum(cost_coef[i]*modelC.x[i] for i in range(num_commodities)), sense = minimize)\n",
        "\n",
        "#constraints\n",
        "modelC.nutrient_constraints = ConstraintList()\n",
        "for j in range(num_nutrients):\n",
        "  modelC.nutrient_constraints.add(expr=sum(constraint_coef[j][i] * modelC.x[i] for i in range(num_commodities))>= daily_mins[j])\n",
        "\n",
        "#model pprint()\n",
        "modelC.pprint()"
      ],
      "metadata": {
        "collapsed": true,
        "id": "dcd2UuqvgEOi",
        "outputId": "0f7bf2e6-a155-4eb6-8136-ddf7b69ff35a",
        "colab": {
          "base_uri": "https://localhost:8080/"
        }
      },
      "execution_count": 27,
      "outputs": [
        {
          "output_type": "stream",
          "name": "stdout",
          "text": [
            "1 Var Declarations\n",
            "    x : Size=4, Index={0, 1, 2, 3}\n",
            "        Key : Lower : Value : Upper : Fixed : Stale : Domain\n",
            "          0 :     0 :  None :  None : False :  True : NonNegativeReals\n",
            "          1 :     0 :  None :  None : False :  True : NonNegativeReals\n",
            "          2 :     0 :  None :  None : False :  True : NonNegativeReals\n",
            "          3 :     0 :  None :  None : False :  True : NonNegativeReals\n",
            "\n",
            "1 Objective Declarations\n",
            "    Objective : Size=1, Index=None, Active=True\n",
            "        Key  : Active : Sense    : Expression\n",
            "        None :   True : minimize : 0.36*x[0] + 0.141*x[1] + 0.242*x[2] + 0.3*x[3]\n",
            "\n",
            "1 Constraint Declarations\n",
            "    nutrient_constraints : Size=3, Index={1, 2, 3}, Active=True\n",
            "        Key : Lower : Body                                         : Upper : Active\n",
            "          1 :   3.0 :  16.1*x[0] + 1.6*x[1] + 2.9*x[2] + 12.5*x[3] :  +Inf :   True\n",
            "          2 :   1.8 : 7.9*x[0] + 58.9*x[1] + 91.2*x[2] + 42.3*x[3] :  +Inf :   True\n",
            "          3 :   2.5 :  80.5*x[0] + 3.0*x[1] + 7.2*x[2] + 15.4*x[3] :  +Inf :   True\n",
            "\n",
            "3 Declarations: x Objective nutrient_constraints\n"
          ]
        }
      ]
    },
    {
      "cell_type": "code",
      "source": [
        "#solve model with cbc because this is a linear program\n",
        "opt = SolverFactory('cbc')\n",
        "results = opt.solve(modelC, tee = True)"
      ],
      "metadata": {
        "collapsed": true,
        "id": "Ps6n6rNMgFgx",
        "outputId": "1ba3736c-20b6-43e7-97c5-1b8bae8269b5",
        "colab": {
          "base_uri": "https://localhost:8080/"
        }
      },
      "execution_count": 28,
      "outputs": [
        {
          "output_type": "stream",
          "name": "stdout",
          "text": [
            "Welcome to the CBC MILP Solver \n",
            "Version: 2.10.10 \n",
            "Build Date: Jun  7 2023 \n",
            "\n",
            "command line - /content/bin/cbc -printingOptions all -import /tmp/tmpwva8tqe_.pyomo.lp -stat=1 -solve -solu /tmp/tmpwva8tqe_.pyomo.soln (default strategy 1)\n",
            "Option for printingOptions changed from normal to all\n",
            "Presolve 3 (0) rows, 4 (0) columns and 12 (0) elements\n",
            "Statistics for presolved model\n",
            "\n",
            "\n",
            "Problem has 3 rows, 4 columns (4 with objective) and 12 elements\n",
            "Column breakdown:\n",
            "4 of type 0.0->inf, 0 of type 0.0->up, 0 of type lo->inf, \n",
            "0 of type lo->up, 0 of type free, 0 of type fixed, \n",
            "0 of type -inf->0.0, 0 of type -inf->up, 0 of type 0.0->1.0 \n",
            "Row breakdown:\n",
            "0 of type E 0.0, 0 of type E 1.0, 0 of type E -1.0, \n",
            "0 of type E other, 0 of type G 0.0, 0 of type G 1.0, \n",
            "3 of type G other, 0 of type L 0.0, 0 of type L 1.0, \n",
            "0 of type L other, 0 of type Range 0.0->1.0, 0 of type Range other, \n",
            "0 of type Free \n",
            "Presolve 3 (0) rows, 4 (0) columns and 12 (0) elements\n",
            "0  Obj 0 Primal inf 0.23712785 (3)\n",
            "2  Obj 0.067266607\n",
            "Optimal - objective value 0.067266607\n",
            "Optimal objective 0.06726660713 - 2 iterations time 0.002\n",
            "Total time (CPU seconds):       0.00   (Wallclock seconds):       0.00\n",
            "\n"
          ]
        }
      ]
    },
    {
      "cell_type": "code",
      "source": [
        "#print optimal amounts of each food and the optimal cost it achieves\n",
        "#print optimal amounts of each food and the optimal cost it achieves\n",
        "print(\"Optimal Amounts of Each Food:\")\n",
        "for i in range(num_commodities):\n",
        "    print(f\"x{i}({['Wheat','Macaroni','Cereal','Milk'][i]}):{modelC.x[i].value:.4f}\")\n",
        "print(f\"Total Optimal Cost is: ${modelC.Objective():.4f}\")\n",
        "\n"
      ],
      "metadata": {
        "id": "3t8QehZsgHEx",
        "outputId": "f3318b4c-8d27-43c7-9a2b-fabcda90282c",
        "colab": {
          "base_uri": "https://localhost:8080/"
        }
      },
      "execution_count": 29,
      "outputs": [
        {
          "output_type": "stream",
          "name": "stdout",
          "text": [
            "Optimal Amounts of Each Food:\n",
            "x0(Wheat):0.1793\n",
            "x1(Macaroni):0.0000\n",
            "x2(Cereal):0.0000\n",
            "x3(Milk):0.0091\n",
            "Total Optimal Cost is: $0.0673\n"
          ]
        }
      ]
    }
  ]
}