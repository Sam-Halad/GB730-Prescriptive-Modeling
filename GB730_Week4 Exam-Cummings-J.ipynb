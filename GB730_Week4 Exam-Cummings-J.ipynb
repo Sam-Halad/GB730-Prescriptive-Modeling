{
  "nbformat": 4,
  "nbformat_minor": 0,
  "metadata": {
    "colab": {
      "provenance": []
    },
    "kernelspec": {
      "name": "python3",
      "display_name": "Python 3"
    },
    "language_info": {
      "name": "python"
    }
  },
  "cells": [
    {
      "cell_type": "code",
      "execution_count": null,
      "metadata": {
        "id": "Iiv2Y8rEyOas"
      },
      "outputs": [],
      "source": [
        "#create profit  function\n",
        "def profit(inputs = [1,2,3,4,5],\n",
        "  sales_volume = [220, 250, 230, 260, 250],\n",
        "  sales_price = [136,136,153,153,170],\n",
        "  variable_prod_ucosts = [80,80,90,90,100],\n",
        "  fixed_prod_costs = [3000,3000,4000,4000,4000]):\n",
        "  #sales_markup = 70\n",
        "  #calculate revenue\n",
        "  seasons=len(inputs)\n",
        "  print(seasons)\n",
        "  revenue = [sales_volume[i] * sales_price [i]\n",
        "  for i in range(seasons)]\n",
        "  #calculate cost\n",
        "  variable_prod_cost= [variable_prod_ucosts[i]*sales_volume[i]\n",
        "  for i in range(seasons)]\n",
        "\n",
        "  total_prod_costs= [variable_prod_cost[i]+fixed_prod_costs[i]\n",
        "  for i in range(seasons)]\n",
        "\n",
        "  profit = [revenue[i]-total_prod_costs[i]\n",
        "  for i in range(seasons)]\n",
        "\n",
        "  total_profit = sum(profit)\n",
        "\n",
        "  print (\"The profit per season is\", profit)\n",
        "  print (\"The total profit is:\", total_profit)\n",
        "  return total_profit\n",
        "  profit()\n",
        "\n",
        "\n",
        "\n"
      ]
    },
    {
      "cell_type": "code",
      "source": [
        "profit()"
      ],
      "metadata": {
        "colab": {
          "base_uri": "https://localhost:8080/"
        },
        "id": "5PDV5mIp40vs",
        "outputId": "da20d624-b689-433e-cd61-6a24084a2343"
      },
      "execution_count": null,
      "outputs": [
        {
          "output_type": "stream",
          "name": "stdout",
          "text": [
            "5\n",
            "The profit per season is [9320, 11000, 10490, 12380, 13500]\n",
            "The total profit is: 56690\n"
          ]
        },
        {
          "output_type": "execute_result",
          "data": {
            "text/plain": [
              "56690"
            ]
          },
          "metadata": {},
          "execution_count": 33
        }
      ]
    }
  ]
}